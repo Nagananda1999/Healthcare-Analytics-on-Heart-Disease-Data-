{
 "cells": [
  {
   "cell_type": "code",
   "execution_count": 1,
   "id": "b07b8135",
   "metadata": {},
   "outputs": [
    {
     "name": "stdout",
     "output_type": "stream",
     "text": [
      "<class 'pandas.core.frame.DataFrame'>\n"
     ]
    }
   ],
   "source": [
    "from ucimlrepo import fetch_ucirepo \n",
    "  \n",
    "# fetch dataset \n",
    "heart_disease = fetch_ucirepo(id=45) \n",
    "  \n",
    "# data (as pandas dataframes) \n",
    "X = heart_disease.data.features \n",
    "y = heart_disease.data.targets \n",
    "  \n",
    "# metadata \n",
    "# print(heart_disease.metadata) \n",
    "  \n",
    "# variable information \n",
    "print(type(X)) \n"
   ]
  },
  {
   "cell_type": "code",
   "execution_count": 9,
   "id": "fd0c29a5",
   "metadata": {},
   "outputs": [
    {
     "data": {
      "text/plain": [
       "pandas.core.frame.DataFrame"
      ]
     },
     "execution_count": 9,
     "metadata": {},
     "output_type": "execute_result"
    }
   ],
   "source": [
    "type(heart_disease.data.features)"
   ]
  },
  {
   "cell_type": "code",
   "execution_count": 24,
   "id": "7a292679",
   "metadata": {},
   "outputs": [],
   "source": [
    "data = X\n",
    "data['target'] = y"
   ]
  },
  {
   "cell_type": "code",
   "execution_count": 29,
   "id": "be699a11",
   "metadata": {},
   "outputs": [
    {
     "data": {
      "text/plain": [
       "0    164\n",
       "1     55\n",
       "2     36\n",
       "3     35\n",
       "4     13\n",
       "Name: target, dtype: int64"
      ]
     },
     "execution_count": 29,
     "metadata": {},
     "output_type": "execute_result"
    }
   ],
   "source": [
    "data['target'].value_counts()"
   ]
  },
  {
   "cell_type": "code",
   "execution_count": 30,
   "id": "c278c8d4",
   "metadata": {},
   "outputs": [],
   "source": [
    "def result(i):\n",
    "    if i==0:\n",
    "        return 'Absence'\n",
    "    else:\n",
    "        return 'Presence'"
   ]
  },
  {
   "cell_type": "code",
   "execution_count": 31,
   "id": "81a0cdd7",
   "metadata": {},
   "outputs": [],
   "source": [
    "data['disease'] = data['target'].apply(result)"
   ]
  },
  {
   "cell_type": "code",
   "execution_count": 38,
   "id": "98492ebf",
   "metadata": {},
   "outputs": [
    {
     "data": {
      "text/plain": [
       "Absence     164\n",
       "Presence    139\n",
       "Name: disease, dtype: int64"
      ]
     },
     "execution_count": 38,
     "metadata": {},
     "output_type": "execute_result"
    }
   ],
   "source": [
    "data['disease'].value_counts()"
   ]
  },
  {
   "cell_type": "code",
   "execution_count": 39,
   "id": "1b88a7f0",
   "metadata": {},
   "outputs": [],
   "source": [
    "# similarly create age category\n",
    "def age_rng(r):\n",
    "    if r>=29 and r<40:\n",
    "        return 'Young Age'\n",
    "    elif r>=40 and r<55:\n",
    "        return 'Middle Age'\n",
    "    elif r>55:\n",
    "        return 'Elder Age'\n"
   ]
  },
  {
   "cell_type": "code",
   "execution_count": null,
   "id": "d2caef8d",
   "metadata": {},
   "outputs": [],
   "source": [
    "df['Age_Range']=df['age'].apply(age_rng)\n",
    "df.head()"
   ]
  },
  {
   "cell_type": "code",
   "execution_count": 43,
   "id": "07fc0048",
   "metadata": {},
   "outputs": [
    {
     "data": {
      "text/plain": [
       "age         0\n",
       "sex         0\n",
       "cp          0\n",
       "trestbps    0\n",
       "chol        0\n",
       "fbs         0\n",
       "restecg     0\n",
       "thalach     0\n",
       "exang       0\n",
       "oldpeak     0\n",
       "slope       0\n",
       "ca          0\n",
       "thal        2\n",
       "target      0\n",
       "disease     0\n",
       "dtype: int64"
      ]
     },
     "execution_count": 43,
     "metadata": {},
     "output_type": "execute_result"
    }
   ],
   "source": [
    "data.isnull().sum()"
   ]
  },
  {
   "cell_type": "code",
   "execution_count": 42,
   "id": "a9093974",
   "metadata": {},
   "outputs": [
    {
     "name": "stderr",
     "output_type": "stream",
     "text": [
      "C:\\Users\\Nagananda\\AppData\\Local\\Temp\\ipykernel_24432\\396750931.py:1: SettingWithCopyWarning: \n",
      "A value is trying to be set on a copy of a slice from a DataFrame\n",
      "\n",
      "See the caveats in the documentation: https://pandas.pydata.org/pandas-docs/stable/user_guide/indexing.html#returning-a-view-versus-a-copy\n",
      "  data['ca'].fillna(data['ca'].median(),inplace=True)\n"
     ]
    }
   ],
   "source": [
    "data['ca'].fillna(data['ca'].median(),inplace=True)"
   ]
  },
  {
   "cell_type": "code",
   "execution_count": 44,
   "id": "61b8bd54",
   "metadata": {},
   "outputs": [],
   "source": [
    "data['thal'].fillna(data['thal'].median(),inplace=True)"
   ]
  },
  {
   "cell_type": "code",
   "execution_count": 46,
   "id": "3fa34744",
   "metadata": {},
   "outputs": [
    {
     "data": {
      "text/plain": [
       "age         0\n",
       "sex         0\n",
       "cp          0\n",
       "trestbps    0\n",
       "chol        0\n",
       "fbs         0\n",
       "restecg     0\n",
       "thalach     0\n",
       "exang       0\n",
       "oldpeak     0\n",
       "slope       0\n",
       "ca          0\n",
       "thal        0\n",
       "target      0\n",
       "disease     0\n",
       "dtype: int64"
      ]
     },
     "execution_count": 46,
     "metadata": {},
     "output_type": "execute_result"
    }
   ],
   "source": [
    "data.isnull().sum()"
   ]
  },
  {
   "cell_type": "code",
   "execution_count": 51,
   "id": "e16c78b0",
   "metadata": {},
   "outputs": [
    {
     "data": {
      "text/plain": [
       "age           int64\n",
       "sex           int64\n",
       "cp            int64\n",
       "trestbps      int64\n",
       "chol          int64\n",
       "fbs           int64\n",
       "restecg       int64\n",
       "thalach       int64\n",
       "exang         int64\n",
       "oldpeak     float64\n",
       "slope         int64\n",
       "ca          float64\n",
       "thal        float64\n",
       "target        int64\n",
       "disease      object\n",
       "dtype: object"
      ]
     },
     "execution_count": 51,
     "metadata": {},
     "output_type": "execute_result"
    }
   ],
   "source": [
    "data.dtypes"
   ]
  },
  {
   "cell_type": "code",
   "execution_count": 54,
   "id": "df5f0ceb",
   "metadata": {},
   "outputs": [],
   "source": [
    "import matplotlib.pyplot as plt"
   ]
  },
  {
   "cell_type": "code",
   "execution_count": 57,
   "id": "9656a480",
   "metadata": {},
   "outputs": [
    {
     "data": {
      "text/plain": [
       "{'whiskers': [<matplotlib.lines.Line2D at 0x1d2d28fbb20>,\n",
       "  <matplotlib.lines.Line2D at 0x1d2d2108250>],\n",
       " 'caps': [<matplotlib.lines.Line2D at 0x1d2d290d040>,\n",
       "  <matplotlib.lines.Line2D at 0x1d2d290d310>],\n",
       " 'boxes': [<matplotlib.lines.Line2D at 0x1d2d28fb850>],\n",
       " 'medians': [<matplotlib.lines.Line2D at 0x1d2d290d5e0>],\n",
       " 'fliers': [<matplotlib.lines.Line2D at 0x1d2d290d8b0>],\n",
       " 'means': []}"
      ]
     },
     "execution_count": 57,
     "metadata": {},
     "output_type": "execute_result"
    },
    {
     "data": {
      "image/png": "[encoded data removed]",
      "text/plain": [
       "<Figure size 432x288 with 1 Axes>"
      ]
     },
     "metadata": {
      "needs_background": "light"
     },
     "output_type": "display_data"
    }
   ],
   "source": [
    "plt.boxplot(data['chol'])"
   ]
  },
  {
   "cell_type": "code",
   "execution_count": null,
   "id": "ae24d0e5",
   "metadata": {},
   "outputs": [],
   "source": [
    "#Detecting Outliers using Inter Quartile Range\n",
    "#Finding The data located in First Quartile and Third Quartile\n",
    "#If the data point significantly differs from other cluster of data points then removing the data point\n",
    "outliers_chol = []\n",
    "def Find_Outliers(data):\n",
    "    data = sorted(data)\n",
    "    Q1 = np.percentile(data,25)\n",
    "    Q3 = np.percentile(data,75)\n",
    " \n",
    "    IQR = Q3-Q1\n",
    "    l_bound = Q1-(1.5*IQR)\n",
    "    u_bound = Q3+(1.5*IQR)\n",
    "   \n",
    "    for j in data: \n",
    "        if (j < l_bound or j > u_bound):\n",
    "            outliers_chol.append(j)\n",
    "    return outliers_chol\n",
    "\n",
    "outliers_chol = Find_Outliers(df['chol'])\n",
    "print(\"Outliers from IQR method for chol column: \", outliers_chol)"
   ]
  },
  {
   "cell_type": "code",
   "execution_count": null,
   "id": "031d5abf",
   "metadata": {},
   "outputs": [],
   "source": [
    "#Replacing the outliers in the chol column with the mean\n",
    "for i in outliers_chol:\n",
    "    df['chol'] = np.where(df['chol'] == i, df['chol'].mean(), df['chol'])"
   ]
  }
 ],
 "metadata": {
  "kernelspec": {
   "display_name": "Python 3 (ipykernel)",
   "language": "python",
   "name": "python3"
  },
  "language_info": {
   "codemirror_mode": {
    "name": "ipython",
    "version": 3
   },
   "file_extension": ".py",
   "mimetype": "text/x-python",
   "name": "python",
   "nbconvert_exporter": "python",
   "pygments_lexer": "ipython3",
   "version": "3.9.12"
  }
 },
 "nbformat": 4,
 "nbformat_minor": 5
}
