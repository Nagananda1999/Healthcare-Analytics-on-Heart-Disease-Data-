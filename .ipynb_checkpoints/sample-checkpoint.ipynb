{
 "cells": [
  {
   "cell_type": "code",
   "execution_count": 1,
   "id": "f0a279ec",
   "metadata": {},
   "outputs": [
    {
     "name": "stdout",
     "output_type": "stream",
     "text": [
      "Collecting ucimlrepo\n",
      "  Downloading ucimlrepo-0.0.3-py3-none-any.whl (7.0 kB)\n",
      "Installing collected packages: ucimlrepo\n",
      "Successfully installed ucimlrepo-0.0.3\n",
      "Note: you may need to restart the kernel to use updated packages.\n"
     ]
    }
   ],
   "source": [
    "pip install ucimlrepo\n"
   ]
  },
  {
   "cell_type": "code",
   "execution_count": 10,
   "id": "b07b8135",
   "metadata": {},
   "outputs": [
    {
     "name": "stdout",
     "output_type": "stream",
     "text": [
      "<class 'pandas.core.frame.DataFrame'>\n"
     ]
    }
   ],
   "source": [
    "from ucimlrepo import fetch_ucirepo \n",
    "  \n",
    "# fetch dataset \n",
    "heart_disease = fetch_ucirepo(id=45) \n",
    "  \n",
    "# data (as pandas dataframes) \n",
    "X = heart_disease.data.features \n",
    "y = heart_disease.data.targets \n",
    "  \n",
    "# metadata \n",
    "# print(heart_disease.metadata) \n",
    "  \n",
    "# variable information \n",
    "print(type(X)) \n"
   ]
  },
  {
   "cell_type": "code",
   "execution_count": 9,
   "id": "fd0c29a5",
   "metadata": {},
   "outputs": [
    {
     "data": {
      "text/plain": [
       "pandas.core.frame.DataFrame"
      ]
     },
     "execution_count": 9,
     "metadata": {},
     "output_type": "execute_result"
    }
   ],
   "source": [
    "type(heart_disease.data.features)"
   ]
  },
  {
   "cell_type": "code",
   "execution_count": 14,
   "id": "6e1e0728",
   "metadata": {},
   "outputs": [
    {
     "data": {
      "text/plain": [
       "age         0\n",
       "sex         0\n",
       "cp          0\n",
       "trestbps    0\n",
       "chol        0\n",
       "fbs         0\n",
       "restecg     0\n",
       "thalach     0\n",
       "exang       0\n",
       "oldpeak     0\n",
       "slope       0\n",
       "ca          4\n",
       "thal        2\n",
       "dtype: int64"
      ]
     },
     "execution_count": 14,
     "metadata": {},
     "output_type": "execute_result"
    }
   ],
   "source": [
    "X.isnull().sum()"
   ]
  },
  {
   "cell_type": "code",
   "execution_count": 20,
   "id": "6c8fc1e8",
   "metadata": {},
   "outputs": [],
   "source": [
    "X['cp'].unique()"
   ]
  },
  {
   "cell_type": "code",
   "execution_count": 39,
   "id": "b116d86c",
   "metadata": {},
   "outputs": [
    {
     "data": {
      "text/plain": [
       "{'ids': None,\n",
       " 'features':      age  sex  cp  trestbps  chol  fbs  restecg  thalach  exang  oldpeak  \\\n",
       " 0     63    1   1       145   233    1        2      150      0      2.3   \n",
       " 1     67    1   4       160   286    0        2      108      1      1.5   \n",
       " 2     67    1   4       120   229    0        2      129      1      2.6   \n",
       " 3     37    1   3       130   250    0        0      187      0      3.5   \n",
       " 4     41    0   2       130   204    0        2      172      0      1.4   \n",
       " ..   ...  ...  ..       ...   ...  ...      ...      ...    ...      ...   \n",
       " 298   45    1   1       110   264    0        0      132      0      1.2   \n",
       " 299   68    1   4       144   193    1        0      141      0      3.4   \n",
       " 300   57    1   4       130   131    0        0      115      1      1.2   \n",
       " 301   57    0   2       130   236    0        2      174      0      0.0   \n",
       " 302   38    1   3       138   175    0        0      173      0      0.0   \n",
       " \n",
       "      slope   ca  thal  targets  \n",
       " 0        3  0.0   6.0        0  \n",
       " 1        2  3.0   3.0        2  \n",
       " 2        2  2.0   7.0        1  \n",
       " 3        3  0.0   3.0        0  \n",
       " 4        1  0.0   3.0        0  \n",
       " ..     ...  ...   ...      ...  \n",
       " 298      2  0.0   7.0        1  \n",
       " 299      2  2.0   7.0        2  \n",
       " 300      2  1.0   7.0        3  \n",
       " 301      2  1.0   3.0        1  \n",
       " 302      1  NaN   3.0        0  \n",
       " \n",
       " [303 rows x 14 columns],\n",
       " 'targets':      num\n",
       " 0      0\n",
       " 1      2\n",
       " 2      1\n",
       " 3      0\n",
       " 4      0\n",
       " ..   ...\n",
       " 298    1\n",
       " 299    2\n",
       " 300    3\n",
       " 301    1\n",
       " 302    0\n",
       " \n",
       " [303 rows x 1 columns],\n",
       " 'original':      age  sex  cp  trestbps  chol  fbs  restecg  thalach  exang  oldpeak  \\\n",
       " 0     63    1   1       145   233    1        2      150      0      2.3   \n",
       " 1     67    1   4       160   286    0        2      108      1      1.5   \n",
       " 2     67    1   4       120   229    0        2      129      1      2.6   \n",
       " 3     37    1   3       130   250    0        0      187      0      3.5   \n",
       " 4     41    0   2       130   204    0        2      172      0      1.4   \n",
       " ..   ...  ...  ..       ...   ...  ...      ...      ...    ...      ...   \n",
       " 298   45    1   1       110   264    0        0      132      0      1.2   \n",
       " 299   68    1   4       144   193    1        0      141      0      3.4   \n",
       " 300   57    1   4       130   131    0        0      115      1      1.2   \n",
       " 301   57    0   2       130   236    0        2      174      0      0.0   \n",
       " 302   38    1   3       138   175    0        0      173      0      0.0   \n",
       " \n",
       "      slope   ca  thal  num  \n",
       " 0        3  0.0   6.0    0  \n",
       " 1        2  3.0   3.0    2  \n",
       " 2        2  2.0   7.0    1  \n",
       " 3        3  0.0   3.0    0  \n",
       " 4        1  0.0   3.0    0  \n",
       " ..     ...  ...   ...  ...  \n",
       " 298      2  0.0   7.0    1  \n",
       " 299      2  2.0   7.0    2  \n",
       " 300      2  1.0   7.0    3  \n",
       " 301      2  1.0   3.0    1  \n",
       " 302      1  NaN   3.0    0  \n",
       " \n",
       " [303 rows x 14 columns],\n",
       " 'headers': Index(['age', 'sex', 'cp', 'trestbps', 'chol', 'fbs', 'restecg', 'thalach',\n",
       "        'exang', 'oldpeak', 'slope', 'ca', 'thal', 'num'],\n",
       "       dtype='object')}"
      ]
     },
     "execution_count": 39,
     "metadata": {},
     "output_type": "execute_result"
    }
   ],
   "source": [
    "heart_disease.data\n"
   ]
  }
 ],
 "metadata": {
  "kernelspec": {
   "display_name": "Python 3 (ipykernel)",
   "language": "python",
   "name": "python3"
  },
  "language_info": {
   "codemirror_mode": {
    "name": "ipython",
    "version": 3
   },
   "file_extension": ".py",
   "mimetype": "text/x-python",
   "name": "python",
   "nbconvert_exporter": "python",
   "pygments_lexer": "ipython3",
   "version": "3.9.12"
  }
 },
 "nbformat": 4,
 "nbformat_minor": 5
}
