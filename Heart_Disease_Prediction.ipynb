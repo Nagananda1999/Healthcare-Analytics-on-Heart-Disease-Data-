{
 "cells": [
  {
   "cell_type": "markdown",
   "id": "430235b1",
   "metadata": {},
   "source": [
    "# Healthcare Analytics on Heart Disease Data "
   ]
  },
  {
   "cell_type": "markdown",
   "id": "9a2f0d7f",
   "metadata": {},
   "source": [
    "### Problem Statement:\n",
    "Health is real wealth in the pandemic time we all realized the brute effects of covid-19 on all irrespective of any status. You are required to analyze this health and medical data for better future preparation.\n",
    "<br/>\n",
    "This database contains 76 attributes, but all published experiments refer to using a subset of 14 of them. In particular, the Cleveland database is the only one that has been used by ML researchers to this date.\n",
    "<br>\n",
    "The “goal” field refers to the presence of heart disease in the patient. It is integer valued from 0 (no presence) to 4. Attribute Information:\n",
    "> 1. age\n",
    "> 2. sex\n",
    "> 3. chest pain type (4 values)\n",
    "> 4. resting blood pressure\n",
    "> 5. serum cholesterol in mg/dl\n",
    "> 6. fasting blood sugar> 120 mg/dl\n",
    "> 7. resting electrocardiographic results (values 0,1,2)\n",
    "> 8. maximum heart rate achieved\n",
    "> 9. exercise induced angina\n",
    "> 10. oldpeak = ST depression induced by exercise relative to rest\n",
    "> 11. the slope of the peak exercise ST segment\n",
    "> 12. number of major vessels (0-3) colored by flourosopy\n",
    "> 13. thal: 3 = normal; 6 = fixed defect; 7 = reversible defect\n",
    "\n",
    "Objective is to find key metrics and factors and show the meaningful relationships between\n",
    "attributes."
   ]
  },
  {
   "cell_type": "markdown",
   "id": "087b466c",
   "metadata": {},
   "source": [
    "## Complete attribute documentation:\n",
    "> 1. age: age in years\n",
    "> 2. sex: sex (1 = male; 0 = female)\n",
    "> 3. cp: chest pain type\n",
    "        -- Value 1: typical angina\n",
    "        -- Value 2: atypical angina\n",
    "        -- Value 3: non-anginal pain\n",
    "        -- Value 4: asymptomatic\n",
    "> 4. trestbps: resting blood pressure (in mm Hg on admission to the hospital)\n",
    "> 5. chol: serum cholestoral in mg/dl\n",
    "> 6. fbs: (fasting blood sugar > 120 mg/dl)  (1 = true; 0 = false)\n",
    "> 7. restecg: resting electrocardiographic results\n",
    "        -- Value 0: normal\n",
    "        -- Value 1: having ST-T wave abnormality (T wave inversions and/or ST elevation or depression of > 0.05 mV)\n",
    "        -- Value 2: showing probable or definite left ventricular hypertrophy by Estes' criteria\n",
    "> 8. thalach: maximum heart rate achieved\n",
    "> 9. exang: exercise induced angina (1 = yes; 0 = no)\n",
    "> 10. oldpeak = ST depression induced by exercise relative to rest\n",
    "> 11. slope: the slope of the peak exercise ST segment\n",
    "        -- Value 1: upsloping\n",
    "        -- Value 2: flat\n",
    "        -- Value 3: downsloping\n",
    "> 12. ca: number of major vessels (0-3) colored by flourosopy\n",
    "> 13. thal: 3 = normal; 6 = fixed defect; 7 = reversable defect\n",
    "> 14. num: diagnosis of heart disease (angiographic disease status)\n",
    "        -- Value 0: < 50% diameter narrowing\n",
    "        -- Value 1: > 50% diameter narrowing\n",
    "        (in any major vessel: attributes 59 through 68 are vessels)"
   ]
  },
  {
   "cell_type": "code",
   "execution_count": null,
   "id": "0e68e8ab",
   "metadata": {},
   "outputs": [],
   "source": [
    "import pandas as pd\n",
    "import numpy as np\n",
    "import matplotlib.pyplot as plt"
   ]
  }
 ],
 "metadata": {
  "kernelspec": {
   "display_name": "Python 3 (ipykernel)",
   "language": "python",
   "name": "python3"
  },
  "language_info": {
   "codemirror_mode": {
    "name": "ipython",
    "version": 3
   },
   "file_extension": ".py",
   "mimetype": "text/x-python",
   "name": "python",
   "nbconvert_exporter": "python",
   "pygments_lexer": "ipython3",
   "version": "3.9.12"
  }
 },
 "nbformat": 4,
 "nbformat_minor": 5
}
